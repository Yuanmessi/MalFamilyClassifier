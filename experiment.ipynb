{
 "cells": [
  {
   "cell_type": "code",
   "execution_count": 1,
   "id": "25e74000-b1ac-4fc5-8ce5-54040cda3efb",
   "metadata": {},
   "outputs": [],
   "source": [
    "import os\n",
    "import re\n",
    "import time\n",
    "import random\n",
    "import numpy as np\n",
    "import pandas as pd\n",
    "from tqdm import tqdm\n",
    "from shutil import move\n",
    "from sklearn.metrics import log_loss, accuracy_score, precision_recall_fscore_support"
   ]
  },
  {
   "cell_type": "code",
   "execution_count": 2,
   "id": "489001c1-a2ab-4c4d-8ff6-4d215951bff6",
   "metadata": {},
   "outputs": [],
   "source": [
    "%load_ext memory_profiler"
   ]
  },
  {
   "cell_type": "code",
   "execution_count": 3,
   "id": "8d11d1fe-6831-4d23-8eaf-d1f35877f794",
   "metadata": {},
   "outputs": [],
   "source": [
    "%run train.ipynb\n",
    "%run predict.ipynb\n",
    "%run feature_engineering.ipynb"
   ]
  },
  {
   "cell_type": "code",
   "execution_count": 2,
   "id": "cab5b080-dbee-48c5-a92e-8ee8d698ecc5",
   "metadata": {},
   "outputs": [],
   "source": [
    "bdci_base_path = \"E:/Dataset/ccf-malware-classification\"\n",
    "bdci_data_path = f\"{bdci_base_path}/raw_data\"\n",
    "bdci_inter_path = f\"{bdci_base_path}/user_data\"\n",
    "bdci_label_path = f\"{bdci_base_path}/train_label.csv\"\n",
    "bdci_result_path = f\"{bdci_base_path}/prediction_result\"\n",
    "\n",
    "big_base_path = \"E:/Dataset/microsoft-malware-classification\"\n",
    "big_data_path = f\"{big_base_path}/raw_data\"\n",
    "big_inter_path = f\"{big_base_path}/user_data\"\n",
    "big_label_path = f\"{big_base_path}/trainLabels.csv\"\n",
    "big_result_path = f\"{big_base_path}/prediction_result\""
   ]
  },
  {
   "cell_type": "markdown",
   "id": "6b7c7764-91c1-4d92-a32c-290e4bbfc108",
   "metadata": {},
   "source": [
    "## Data preparation"
   ]
  },
  {
   "cell_type": "markdown",
   "id": "3f9297e0-a740-4af1-98fb-fa826b03f197",
   "metadata": {},
   "source": [
    "### Data Preprocessing for Microsoft BIG-15 Dataset"
   ]
  },
  {
   "cell_type": "code",
   "execution_count": 31,
   "id": "ff190c32-4533-4d47-8eac-c24c9790c8d4",
   "metadata": {},
   "outputs": [],
   "source": [
    "def bytes_to_pe(base_path, data_path):\n",
    "    filename = os.listdir(f\"{base_path}/train\")\n",
    "    filename = [f for f in filename if f.endswith('bytes')]\n",
    "    with tqdm(total=len(filename), ncols=80, desc=\"bytes_to_pe\") as pbar:\n",
    "        for sample in filename:\n",
    "            with open(f\"{base_path}/train/{sample}\", \"rb\") as f:\n",
    "                bytez = f.read()\n",
    "            bytels = [b for b in bytez.split() if len(b) <=2 and b.isalnum()]\n",
    "            bytestr = b''.join(bytels).decode('utf-8', errors='ignore')\n",
    "            bytehex = bytes.fromhex(bytestr)\n",
    "            with open(f\"{data_path}/train/pe/{sample.split('.')[0]}\", 'wb') as f:\n",
    "                f.write(bytehex)\n",
    "            pbar.update(1)"
   ]
  },
  {
   "cell_type": "code",
   "execution_count": 32,
   "id": "61f918ef-e931-4332-9bca-408f6755249b",
   "metadata": {},
   "outputs": [
    {
     "name": "stderr",
     "output_type": "stream",
     "text": [
      "bytes_to_pe: 100%|████████████████████████| 10868/10868 [43:59<00:00,  4.12it/s]\n"
     ]
    }
   ],
   "source": [
    "bytes_to_pe(big_base_path, big_data_path)"
   ]
  },
  {
   "cell_type": "code",
   "execution_count": 5,
   "id": "9c603744-8f2d-4fc1-94d5-f98fa930d350",
   "metadata": {},
   "outputs": [],
   "source": [
    "def repl(prefix):\n",
    "    return prefix.group('prefix')[-1]\n",
    "\n",
    "def asm_format(base_path, data_path):\n",
    "    filename = os.listdir(f\"{base_path}/train\")\n",
    "    filename = [f for f in filename if f.endswith('asm')]\n",
    "    with tqdm(total=len(filename), ncols=80, desc=\"asm_format\") as pbar:\n",
    "        for sample in filename:\n",
    "            with open(f\"{base_path}/train/{sample}\", \"rb\") as f:\n",
    "                stringz = f.read().decode('utf-8', errors='ignore')\n",
    "            lines = stringz.split('\\r\\n')\n",
    "            lines = [re.sub(r'(?P<prefix>^[^;]*?\\s{2,}\\S)', repl, ln) for ln in lines]\n",
    "            lines = [re.sub(r'(?P<prefix>^[.|[A-Za-z]+:[A-Z0-9]+$)', '', ln) for ln in lines]\n",
    "            with open(f\"{data_path}/train/asm/{sample}\", 'w', encoding='utf-8', errors='ignore') as f:\n",
    "                f.write('\\n'.join(lines))\n",
    "            pbar.update(1)    "
   ]
  },
  {
   "cell_type": "code",
   "execution_count": 6,
   "id": "56d97499-bf6d-4c52-bcae-e5111dfef87c",
   "metadata": {},
   "outputs": [
    {
     "name": "stderr",
     "output_type": "stream",
     "text": [
      "asm_format: 100%|███████████████████████| 10868/10868 [2:20:36<00:00,  1.29it/s]\n"
     ]
    }
   ],
   "source": [
    "asm_format(big_base_path, big_data_path)"
   ]
  },
  {
   "cell_type": "code",
   "execution_count": null,
   "id": "6dd56251-6cd2-4c81-ac74-7808ad2a6144",
   "metadata": {},
   "outputs": [],
   "source": []
  },
  {
   "cell_type": "markdown",
   "id": "44dc70e0-3317-40c2-9312-ffa70b803961",
   "metadata": {},
   "source": [
    "### Partition of training set and test set"
   ]
  },
  {
   "cell_type": "code",
   "execution_count": 29,
   "id": "fcb76048-f1ed-4bbf-8aed-9b93a78b4b39",
   "metadata": {},
   "outputs": [],
   "source": [
    "def label_partition(label_path, inter_path):\n",
    "    label = pd.read_csv(label_path)\n",
    "    columns = label.columns.tolist()\n",
    "    df_train = pd.DataFrame(columns=columns)\n",
    "    df_test = pd.DataFrame(columns=columns)\n",
    "    filename, family = columns[0], columns[1]\n",
    "    if min(label[family].unique()) > 0:\n",
    "        label.loc[:, family] -= 1\n",
    "    for lab, fam in label.groupby(family):\n",
    "        shape = fam.shape[0]\n",
    "        df_train = df_train.append(fam.iloc[: shape//2, :])\n",
    "        df_test = df_test.append(fam.iloc[shape//2 :, :])\n",
    "        print(lab, shape//2, shape-shape//2)\n",
    "    df_train[filename].to_csv(f\"{inter_path}/train_filename.txt\", header=False, index=False)\n",
    "    np.save(f\"{inter_path}/train_y.npy\", df_train[family])\n",
    "    df_test[filename].to_csv(f\"{inter_path}/test_filename.txt\", header=False, index=False)\n",
    "    np.save(f\"{inter_path}/test_y.npy\", df_test[family])\n",
    "    print(df_train.shape[0], df_test.shape[0])"
   ]
  },
  {
   "cell_type": "code",
   "execution_count": 7,
   "id": "f5809d25-b713-4d73-9905-b3a0b9c0ca76",
   "metadata": {},
   "outputs": [
    {
     "name": "stdout",
     "output_type": "stream",
     "text": [
      "0 214 214\n",
      "1 373 373\n",
      "2 10 10\n",
      "3 130 131\n",
      "4 160 161\n",
      "5 90 91\n",
      "6 388 388\n",
      "7 675 675\n",
      "8 297 297\n",
      "9 582 582\n",
      "2919 2922\n"
     ]
    }
   ],
   "source": [
    "label_partition(bdci_label_path, bdci_inter_path)"
   ]
  },
  {
   "cell_type": "code",
   "execution_count": 5,
   "id": "e91c3c2e-be11-444b-9183-f1016f7add1b",
   "metadata": {},
   "outputs": [
    {
     "data": {
      "text/plain": [
       "array([0.07331278, 0.12778349, 0.00342583, 0.0445358 , 0.05481329,\n",
       "       0.03083248, 0.13292223, 0.23124358, 0.10174717, 0.19938335])"
      ]
     },
     "execution_count": 5,
     "metadata": {},
     "output_type": "execute_result"
    }
   ],
   "source": [
    "bdci_train_y = np.load(f\"{bdci_inter_path}/train_y.npy\", allow_pickle=True).astype('int')\n",
    "np.bincount(bdci_train_y) / bdci_train_y.shape[0]"
   ]
  },
  {
   "cell_type": "code",
   "execution_count": 30,
   "id": "85bb039d-de6a-46ff-ba70-80f324e2a7f9",
   "metadata": {},
   "outputs": [
    {
     "name": "stdout",
     "output_type": "stream",
     "text": [
      "0 770 771\n",
      "1 1239 1239\n",
      "2 1471 1471\n",
      "3 237 238\n",
      "4 21 21\n",
      "5 375 376\n",
      "6 199 199\n",
      "7 614 614\n",
      "8 506 507\n",
      "5432 5436\n"
     ]
    }
   ],
   "source": [
    "label_partition(big_label_path, big_inter_path)"
   ]
  },
  {
   "cell_type": "code",
   "execution_count": 7,
   "id": "42e3a5b2-5277-4350-8e2a-9a029689e56c",
   "metadata": {},
   "outputs": [
    {
     "data": {
      "text/plain": [
       "array([0.14175258, 0.22809278, 0.27080265, 0.04363034, 0.00386598,\n",
       "       0.06903535, 0.03663476, 0.11303387, 0.09315169])"
      ]
     },
     "execution_count": 7,
     "metadata": {},
     "output_type": "execute_result"
    }
   ],
   "source": [
    "big_train_y = np.load(f\"{big_inter_path}/train_y.npy\", allow_pickle=True).astype('int')\n",
    "np.bincount(big_train_y) / big_train_y.shape[0]"
   ]
  },
  {
   "cell_type": "code",
   "execution_count": 22,
   "id": "280797c4-7d8e-44da-9e4c-f47ebc8237f6",
   "metadata": {},
   "outputs": [],
   "source": [
    "def file_movement(inter_path, data_path):\n",
    "    with open(f\"{inter_path}/test_filename.txt\", 'r') as fp:\n",
    "        test_filename = fp.read().split()\n",
    "    for file in os.listdir(f\"{data_path}/train/pe\"):\n",
    "        if file in test_filename:\n",
    "            move(f\"{data_path}/train/pe/{file}\", f\"{data_path}/test/pe\")\n",
    "    for file in os.listdir(f\"{data_path}/train/asm\"):\n",
    "        if file.split('.')[0] in test_filename:\n",
    "            move(f\"{data_path}/train/asm/{file}\", f\"{data_path}/test/asm\")\n",
    "    print(len(os.listdir(f\"{data_path}/train/pe\")), len(os.listdir(f\"{data_path}/test/pe\")))\n",
    "    print(len(os.listdir(f\"{data_path}/train/asm\")), len(os.listdir(f\"{data_path}/test/asm\")))"
   ]
  },
  {
   "cell_type": "code",
   "execution_count": 8,
   "id": "6cdbd01d-2ed7-4808-8872-1423dc7a4a3f",
   "metadata": {},
   "outputs": [
    {
     "name": "stdout",
     "output_type": "stream",
     "text": [
      "2919 2922\n",
      "2919 2922\n"
     ]
    }
   ],
   "source": [
    "file_movement(bdci_inter_path, bdci_data_path)"
   ]
  },
  {
   "cell_type": "code",
   "execution_count": 31,
   "id": "98b0b3b6-b419-4fc2-b504-42f9c171e434",
   "metadata": {},
   "outputs": [
    {
     "name": "stdout",
     "output_type": "stream",
     "text": [
      "5432 5436\n",
      "5432 5436\n"
     ]
    }
   ],
   "source": [
    "file_movement(big_inter_path, big_data_path)"
   ]
  },
  {
   "cell_type": "code",
   "execution_count": null,
   "id": "9fc0e242-7bd1-4d0a-85b1-8cdbc68ebf42",
   "metadata": {},
   "outputs": [],
   "source": []
  },
  {
   "cell_type": "markdown",
   "id": "8a3089fc-4270-4277-b5da-e9acbd1c1de1",
   "metadata": {},
   "source": [
    "## Comparison"
   ]
  },
  {
   "cell_type": "code",
   "execution_count": 3,
   "id": "420c1891-3434-41e1-ad93-b6459f99b923",
   "metadata": {},
   "outputs": [],
   "source": [
    "feature_list = ['histogram', 'byteentropy', 'strings', 'section', 'imports', 'exports', 'words_1000', 'ins_1000', 'semantic', \n",
    "                'ember', 'ember_section_ins_words', 'ember_section_ins_semantic']\n",
    "model_list = ['vote', 'weighted', 'final']\n",
    "feature_set = ['ember', 'section', 'imports', 'exports', 'words_1000', 'ins_1000', 'semantic', \n",
    "               'ember_section_ins_words', 'ember_section_ins_semantic']"
   ]
  },
  {
   "cell_type": "markdown",
   "id": "834d45be-d31f-41ca-b49c-16e2838f3ab8",
   "metadata": {},
   "source": [
    "### Effectiveness of Features"
   ]
  },
  {
   "cell_type": "code",
   "execution_count": 24,
   "id": "dd6f8469-9e44-4fea-8516-41cd0bec5940",
   "metadata": {},
   "outputs": [],
   "source": [
    "def result_by_features(data_path, inter_path, index_list):\n",
    "    # Training\n",
    "    feature_engineering(\"train\", data_path, inter_path)\n",
    "    train_data_dict = load_data('train', index_list, inter_path)\n",
    "    train_y = np.load(f\"{inter_path}/train_y.npy\", allow_pickle=True).astype('int')\n",
    "    train_model(train_data_dict, train_y, inter_path)\n",
    "    \n",
    "    time.sleep(1)\n",
    "    \n",
    "    # Predicting\n",
    "    feature_engineering(\"test\", data_path, inter_path)\n",
    "    predict_result_base(index_list, inter_path)"
   ]
  },
  {
   "cell_type": "code",
   "execution_count": 18,
   "id": "a7560380-2822-4356-9d14-3a21deb3ed00",
   "metadata": {},
   "outputs": [
    {
     "name": "stdout",
     "output_type": "stream",
     "text": [
      "------------------------ Prediction ------------------------\n",
      "histogram\n",
      "Wall time: 0.04632925987243652 s\n",
      "byteentropy\n",
      "Wall time: 0.06550908088684082 s\n",
      "strings\n",
      "Wall time: 0.05738067626953125 s\n",
      "section\n",
      "Wall time: 0.047260284423828125 s\n",
      "imports\n",
      "Wall time: 0.0708627700805664 s\n",
      "exports\n",
      "Wall time: 0.04539990425109863 s\n",
      "words_1000\n",
      "Wall time: 0.0357060432434082 s\n",
      "ins_1000\n",
      "Wall time: 0.034131765365600586 s\n",
      "semantic\n",
      "Wall time: 0.05620884895324707 s\n",
      "ember\n",
      "Wall time: 0.055074214935302734 s\n",
      "ember_section_ins_words\n",
      "Wall time: 0.03131604194641113 s\n",
      "ember_section_ins_semantic\n",
      "Wall time: 0.034371137619018555 s\n"
     ]
    }
   ],
   "source": [
    "result_by_features(bdci_data_path, bdci_inter_path, feature_list)"
   ]
  },
  {
   "cell_type": "code",
   "execution_count": 11,
   "id": "c4bd3df2-c157-46fc-b296-45d51d18016a",
   "metadata": {},
   "outputs": [
    {
     "name": "stdout",
     "output_type": "stream",
     "text": [
      "------------------------ Prediction ------------------------\n",
      "histogram\n",
      "Wall time: 0.06801152229309082 s\n",
      "byteentropy\n",
      "Wall time: 0.08501935005187988 s\n",
      "strings\n",
      "Wall time: 0.07101607322692871 s\n",
      "section\n",
      "Wall time: 0.07101750373840332 s\n",
      "imports\n",
      "Wall time: 0.08287501335144043 s\n",
      "exports\n",
      "Wall time: 0.048011064529418945 s\n",
      "words_1000\n",
      "Wall time: 0.07201910018920898 s\n",
      "ins_1000\n",
      "Wall time: 0.06499838829040527 s\n",
      "semantic\n",
      "Wall time: 0.08101797103881836 s\n",
      "ember\n",
      "Wall time: 0.0690157413482666 s\n",
      "ember_section_ins_words\n",
      "Wall time: 0.05841255187988281 s\n",
      "ember_section_ins_semantic\n",
      "Wall time: 0.06001162528991699 s\n"
     ]
    }
   ],
   "source": [
    "result_by_features(big_data_path, big_inter_path, feature_list)"
   ]
  },
  {
   "cell_type": "code",
   "execution_count": null,
   "id": "a0783dee-7d00-4b78-810e-89729c68b345",
   "metadata": {},
   "outputs": [],
   "source": []
  },
  {
   "cell_type": "markdown",
   "id": "fce74a05-9a37-402f-9db2-861e41afcb8f",
   "metadata": {},
   "source": [
    "### Effectiveness of models"
   ]
  },
  {
   "cell_type": "code",
   "execution_count": 12,
   "id": "d3972dde-3ca8-4a94-b71d-0bdec21a39f2",
   "metadata": {},
   "outputs": [],
   "source": [
    "def result_by_models(data_path, inter_path, index_list):\n",
    "    # soft vote\n",
    "    predict_result_vote(index_list, inter_path)\n",
    "    \n",
    "    # weighted soft vote\n",
    "    predict_result_weighted(index_list, inter_path)"
   ]
  },
  {
   "cell_type": "code",
   "execution_count": 17,
   "id": "6655571f-437c-4527-8caf-10bd51b4a835",
   "metadata": {},
   "outputs": [
    {
     "name": "stdout",
     "output_type": "stream",
     "text": [
      "------------------------ Prediction (vote) ------------------------\n",
      "Wall time: 1.05 s\n",
      "------------------------ Prediction (weighted) ------------------------\n",
      "Wall time: 53.1 ms\n"
     ]
    }
   ],
   "source": [
    "result_by_models(bdci_data_path, bdci_inter_path, feature_set)"
   ]
  },
  {
   "cell_type": "code",
   "execution_count": 13,
   "id": "1ee37d88-0033-43ec-98a3-4db4baa99807",
   "metadata": {},
   "outputs": [
    {
     "name": "stdout",
     "output_type": "stream",
     "text": [
      "------------------------ Prediction (vote) ------------------------\n",
      "Wall time: 1.41 s\n",
      "------------------------ Prediction (weighted) ------------------------\n",
      "Wall time: 98.5 ms\n"
     ]
    }
   ],
   "source": [
    "result_by_models(big_data_path, big_inter_path, feature_set)"
   ]
  },
  {
   "cell_type": "code",
   "execution_count": null,
   "id": "f19b83bb-e47f-4283-ab3a-d68e9a483b9d",
   "metadata": {},
   "outputs": [],
   "source": []
  },
  {
   "cell_type": "markdown",
   "id": "b458cd52-a4f1-4244-b149-f75b99181e7e",
   "metadata": {},
   "source": [
    "### Efficiency and resource overhead"
   ]
  },
  {
   "cell_type": "code",
   "execution_count": 17,
   "id": "aa4c4e89-d5dd-43c4-9893-5ec04ab7cfb5",
   "metadata": {},
   "outputs": [],
   "source": [
    "def li2022imbalanced(data_path, inter_path, index_list):\n",
    "#     feature_engineering(\"train\", data_path, inter_path)\n",
    "    train_data_dict = load_data('train', index_list, inter_path)\n",
    "    train_y = np.load(f\"{inter_path}/train_y.npy\", allow_pickle=True).astype('int')\n",
    "    t1 = time.time()\n",
    "    %memit train_model(train_data_dict, train_y, inter_path)\n",
    "    t2 = time.time()\n",
    "    print(f'Train time: {t2 - t1}s')\n",
    "    \n",
    "    def predicting(data_path, inter_path):\n",
    "#         feature_engineering(\"test\", data_path, inter_path)\n",
    "        # Decision-based multimodal fusion\n",
    "        print(\"------------------------ Predicting ------------------------\")\n",
    "        feature_list1 = ['ember', 'section', 'imports', 'exports']\n",
    "        result1 = predict_result(feature_list1, inter_path)\n",
    "        feature_list2 = ['section', 'exports', 'ember_section_ins_words', 'ember_section_ins_semantic']\n",
    "        result2 = predict_result(feature_list2, inter_path)\n",
    "        feature_list3 = ['section', 'exports', 'words_1000', 'ember_section_ins_semantic']\n",
    "        result3 = predict_result(feature_list3, inter_path)\n",
    "        feature_list4 = ['section', 'exports', 'words_1000', 'semantic']\n",
    "        result4 = predict_result(feature_list4, inter_path)\n",
    "        # Model ensemble\n",
    "        result_np = (result1 + result2 + result3 + result4) / 4\n",
    "        # Submit result\n",
    "        submit_result(inter_path, result_np, \"result_final\")\n",
    "    \n",
    "    t1 = time.time()\n",
    "    %memit predicting(data_path, inter_path)\n",
    "    t2 = time.time()\n",
    "    print(f'Predict time: {t2 - t1}s')\n",
    "\n"
   ]
  },
  {
   "cell_type": "code",
   "execution_count": 19,
   "id": "6e0b5444-56ee-49ee-892c-0e1e9001cd5c",
   "metadata": {
    "tags": []
   },
   "outputs": [
    {
     "name": "stderr",
     "output_type": "stream",
     "text": [
      "train_histogram: 100%|█████████████████████| 2919/2919 [00:08<00:00, 362.54it/s]\n",
      "train_byteentropy: 100%|████████████████████| 2919/2919 [00:33<00:00, 86.97it/s]\n",
      "train_strings: 100%|████████████████████████| 2919/2919 [01:39<00:00, 29.35it/s]\n",
      "train_section: 100%|████████████████████████| 2919/2919 [00:33<00:00, 86.95it/s]\n",
      "train_imports: 100%|███████████████████████| 2919/2919 [00:07<00:00, 375.00it/s]\n",
      "train_exports: 100%|███████████████████████| 2919/2919 [00:05<00:00, 550.63it/s]\n",
      "words_train: 100%|██████████████████████████| 2919/2919 [00:59<00:00, 48.79it/s]\n",
      "words_test: 100%|███████████████████████████| 2922/2922 [01:03<00:00, 46.34it/s]\n",
      "ins_train: 100%|████████████████████████████| 2919/2919 [01:13<00:00, 39.95it/s]\n",
      "ins_test: 100%|█████████████████████████████| 2922/2922 [01:17<00:00, 37.67it/s]\n",
      "train_asm2txt: 100%|████████████████████████| 2919/2919 [01:23<00:00, 34.98it/s]\n",
      "test_asm2txt: 100%|█████████████████████████| 2922/2922 [01:26<00:00, 33.93it/s]\n",
      "semantic: 100%|████████████████████████████| 2919/2919 [00:06<00:00, 441.72it/s]\n"
     ]
    },
    {
     "name": "stdout",
     "output_type": "stream",
     "text": [
      "------------------------ Training ------------------------\n",
      "ember\n",
      "Wall time: 8.21 s\n",
      "section\n",
      "Wall time: 879 ms\n",
      "imports\n",
      "Wall time: 2.58 s\n",
      "exports\n",
      "Wall time: 619 ms\n",
      "words_1000\n",
      "Wall time: 1.44 s\n",
      "ins_1000\n",
      "Wall time: 1.32 s\n",
      "semantic\n",
      "Wall time: 4.51 s\n",
      "ember_section_ins_words\n",
      "Wall time: 2.39 s\n",
      "ember_section_ins_semantic\n"
     ]
    },
    {
     "name": "stderr",
     "output_type": "stream",
     "text": [
      "test_histogram:   3%|▋                       | 78/2922 [00:00<00:03, 764.93it/s]"
     ]
    },
    {
     "name": "stdout",
     "output_type": "stream",
     "text": [
      "Wall time: 3.21 s\n",
      "Wall time: 31.6 s\n"
     ]
    },
    {
     "name": "stderr",
     "output_type": "stream",
     "text": [
      "test_histogram: 100%|██████████████████████| 2922/2922 [00:09<00:00, 316.99it/s]\n",
      "test_byteentropy: 100%|█████████████████████| 2922/2922 [00:34<00:00, 84.29it/s]\n",
      "test_strings: 100%|█████████████████████████| 2922/2922 [01:40<00:00, 29.19it/s]\n",
      "test_section: 100%|█████████████████████████| 2922/2922 [00:29<00:00, 99.75it/s]\n",
      "test_imports: 100%|████████████████████████| 2922/2922 [00:08<00:00, 341.06it/s]\n",
      "test_exports: 100%|████████████████████████| 2922/2922 [00:05<00:00, 500.34it/s]\n",
      "semantic: 100%|████████████████████████████| 2922/2922 [00:06<00:00, 436.64it/s]\n"
     ]
    },
    {
     "name": "stdout",
     "output_type": "stream",
     "text": [
      "------------------------ Prediction start ------------------------\n",
      "------------------------ Prediction finish ------------------------\n",
      "Predict time: 1.4037315845489502s\n",
      "peak memory: 2713.88 MiB, increment: 2556.73 MiB\n"
     ]
    }
   ],
   "source": [
    "%%memit \n",
    "training(bdci_data_path, bdci_inter_path, feature_set)"
   ]
  },
  {
   "cell_type": "code",
   "execution_count": 48,
   "id": "0113065d-307a-421c-9da4-333f31813560",
   "metadata": {},
   "outputs": [
    {
     "name": "stdout",
     "output_type": "stream",
     "text": [
      "------------------------ Prediction start ------------------------\n",
      "------------------------ Prediction finish ------------------------\n",
      "------------------------ Result submit ------------------------\n",
      "Wall time: 1.67 s\n"
     ]
    }
   ],
   "source": [
    "%%memit \n",
    "predicting(bdci_data_path, bdci_inter_path)"
   ]
  },
  {
   "cell_type": "code",
   "execution_count": 18,
   "id": "d1c05994-130e-4737-9434-80b0c1d36fdb",
   "metadata": {},
   "outputs": [
    {
     "name": "stdout",
     "output_type": "stream",
     "text": [
      "------------------------ Training ------------------------\n",
      "ember\n",
      "Wall time: 42.7 s\n",
      "section\n",
      "Wall time: 2.69 s\n",
      "imports\n",
      "Wall time: 6.96 s\n",
      "exports\n",
      "Wall time: 1.55 s\n",
      "words_1000\n",
      "Wall time: 4.68 s\n",
      "ins_1000\n",
      "Wall time: 8.41 s\n",
      "semantic\n",
      "Wall time: 43.7 s\n",
      "ember_section_ins_words\n",
      "Wall time: 14.8 s\n",
      "ember_section_ins_semantic\n",
      "Wall time: 27.8 s\n",
      "Wall time: 2min 50s\n",
      "peak memory: 1092.16 MiB, increment: 399.55 MiB\n"
     ]
    }
   ],
   "source": [
    "%%memit \n",
    "training(big_data_path, big_inter_path, feature_set)"
   ]
  },
  {
   "cell_type": "code",
   "execution_count": 20,
   "id": "1a909916-aac1-49b5-834f-d0d5d72fcb90",
   "metadata": {},
   "outputs": [
    {
     "name": "stdout",
     "output_type": "stream",
     "text": [
      "------------------------ Predicting ------------------------\n",
      "Wall time: 2.104006767272949s\n",
      "peak memory: 352.85 MiB, increment: 182.97 MiB\n"
     ]
    }
   ],
   "source": [
    "%%memit\n",
    "predicting(big_data_path, big_inter_path)"
   ]
  },
  {
   "cell_type": "code",
   "execution_count": null,
   "id": "d55ed054-0ea7-4e34-81bb-07f92f30fd23",
   "metadata": {},
   "outputs": [],
   "source": []
  },
  {
   "cell_type": "markdown",
   "id": "19a56a3b-e532-49b5-8bd7-730236e0fee2",
   "metadata": {},
   "source": [
    "### Result analysis"
   ]
  },
  {
   "cell_type": "code",
   "execution_count": 10,
   "id": "058f0972-dd84-4fa8-b940-be71d5309e72",
   "metadata": {},
   "outputs": [],
   "source": [
    "def classification_performance(inter_path, result_path, index_list):\n",
    "    test_y = np.load(f\"{inter_path}/test_y.npy\", allow_pickle=True).astype('int')\n",
    "    df_metrics = pd.DataFrame(index=index_list, columns=['acc', 'macro-p', 'macro-r', 'macro-f1', 'logloss'])\n",
    "    for name in index_list:\n",
    "        submit = pd.read_csv(f\"{result_path}/result_{name}.csv\")\n",
    "        submit = submit.iloc[:, 1:]\n",
    "        result = np.array(submit)\n",
    "        y_pred = np.argmax(result, axis=1)\n",
    "        acc = accuracy_score(test_y, y_pred)\n",
    "        p, r, f1, _ = precision_recall_fscore_support(test_y, y_pred, average='macro')\n",
    "        logloss = log_loss(test_y, result, labels=list(range(result.shape[1])))\n",
    "        df_metrics.loc[name, :] = [acc, p, r, f1, logloss]\n",
    "    df_metrics.to_csv(f\"{result_path}/evaluation_metrics.csv\")\n",
    "    print(df_metrics)"
   ]
  },
  {
   "cell_type": "code",
   "execution_count": 13,
   "id": "3d2ef2bb-e86c-4a8e-9cd0-7e10673a6582",
   "metadata": {},
   "outputs": [
    {
     "name": "stdout",
     "output_type": "stream",
     "text": [
      "                                 acc   macro-p   macro-r  macro-f1   logloss\n",
      "histogram                   0.975017  0.950061  0.930002  0.938953  0.082651\n",
      "byteentropy                 0.979124  0.964959  0.966733  0.965563  0.075416\n",
      "strings                     0.977755  0.936364  0.954937  0.944718  0.072705\n",
      "section                     0.991786  0.966167  0.990602  0.976858  0.033631\n",
      "imports                     0.926762  0.922428   0.87799  0.865087  0.251241\n",
      "exports                      0.34976  0.323642  0.261582  0.233058  1.668876\n",
      "words_1000                  0.990418  0.977851  0.984967  0.981104  0.035151\n",
      "ins_1000                    0.992813  0.988375  0.990224  0.989185  0.029193\n",
      "semantic                    0.988022  0.978758  0.974376  0.976079  0.044488\n",
      "ember                       0.986653  0.978295  0.968926  0.973194  0.052805\n",
      "ember_section_ins_words     0.994867   0.99044   0.99366  0.991934  0.019895\n",
      "ember_section_ins_semantic  0.995209  0.970643  0.993817  0.980718  0.018585\n",
      "vote                        0.994867  0.990458  0.993518  0.991717  0.024252\n",
      "weighted                    0.995209  0.991094  0.994139  0.992388  0.022418\n",
      "final                       0.996578  0.994117  0.994916  0.994473   0.00995\n"
     ]
    }
   ],
   "source": [
    "classification_performance(bdci_inter_path, bdci_result_path, feature_list + model_list)"
   ]
  },
  {
   "cell_type": "code",
   "execution_count": 23,
   "id": "3faeadb2-e00d-4cce-a955-711d8a052511",
   "metadata": {},
   "outputs": [
    {
     "name": "stdout",
     "output_type": "stream",
     "text": [
      "                                 acc   macro-p   macro-r  macro-f1   logloss\n",
      "histogram                   0.978845  0.979787  0.941858   0.95807   0.07321\n",
      "byteentropy                  0.97351  0.953589  0.918221  0.931537  0.089103\n",
      "strings                     0.977557   0.96776  0.932936  0.947676  0.081044\n",
      "section                     0.967071  0.940721  0.950775  0.945161  0.106358\n",
      "imports                     0.959713   0.94057  0.850859  0.856238  0.136761\n",
      "exports                     0.360743  0.217952  0.185669  0.154771  1.721513\n",
      "words_1000                  0.978845  0.967074  0.906762  0.927288  0.063254\n",
      "ins_1000                    0.984915  0.984831  0.972269  0.978238  0.052846\n",
      "semantic                    0.978109  0.962304  0.909685  0.926282  0.079467\n",
      "ember                       0.984547  0.981237  0.929299  0.946866  0.054321\n",
      "ember_section_ins_words     0.989882  0.982294  0.970489  0.976014  0.032105\n",
      "ember_section_ins_semantic  0.988595  0.982465  0.979046  0.980636  0.039149\n",
      "vote                         0.99209  0.990498  0.977686  0.983664  0.038225\n",
      "weighted                    0.992274  0.992306  0.978039  0.984791   0.03707\n",
      "final                       0.991538  0.990619  0.971918   0.98057  0.029029\n"
     ]
    }
   ],
   "source": [
    "classification_performance(big_inter_path, big_result_path, feature_list + model_list)"
   ]
  },
  {
   "cell_type": "code",
   "execution_count": null,
   "id": "aa3ffc8a-0f36-42a2-b3c9-b8f5ce1322b2",
   "metadata": {},
   "outputs": [],
   "source": []
  }
 ],
 "metadata": {
  "kernelspec": {
   "display_name": "Python 3",
   "language": "python",
   "name": "python3"
  },
  "language_info": {
   "codemirror_mode": {
    "name": "ipython",
    "version": 3
   },
   "file_extension": ".py",
   "mimetype": "text/x-python",
   "name": "python",
   "nbconvert_exporter": "python",
   "pygments_lexer": "ipython3",
   "version": "3.8.8"
  }
 },
 "nbformat": 4,
 "nbformat_minor": 5
}
