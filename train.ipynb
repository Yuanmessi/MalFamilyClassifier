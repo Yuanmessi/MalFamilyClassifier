{
 "cells": [
  {
   "cell_type": "code",
   "execution_count": 1,
   "id": "08a4f881-7e99-4a8d-89aa-01b6de2748ae",
   "metadata": {},
   "outputs": [],
   "source": [
    "import warnings\n",
    "warnings.filterwarnings('ignore')"
   ]
  },
  {
   "cell_type": "code",
   "execution_count": 2,
   "id": "9a8fe2c1-3a5e-442c-be28-b6358f5596fe",
   "metadata": {},
   "outputs": [],
   "source": [
    "%run utils.ipynb\n",
    "%run model.ipynb\n",
    "%run feature_engineering.ipynb"
   ]
  },
  {
   "cell_type": "code",
   "execution_count": 3,
   "id": "b3433297-4870-4dc9-a076-b0f20a047148",
   "metadata": {},
   "outputs": [],
   "source": [
    "import os\n",
    "import sys\n",
    "import joblib\n",
    "import numpy as np\n",
    "import pandas as pd\n",
    "from xgboost import XGBClassifier\n",
    "from sklearn.utils import class_weight\n",
    "from sklearn.ensemble import ExtraTreesClassifier\n",
    "from sklearn.feature_selection import SelectFromModel"
   ]
  },
  {
   "cell_type": "code",
   "execution_count": 4,
   "id": "3176a224-57fd-4f25-b239-fd92b3ca3a28",
   "metadata": {
    "tags": []
   },
   "outputs": [],
   "source": [
    "def train_model(train_data_dict, train_labels, inter_path):\n",
    "\n",
    "    model_A = XGBClassifier(\n",
    "        objective='multi:softprob',\n",
    "        num_class=np.unique(train_labels).shape[0],\n",
    "        max_depth=6,\n",
    "        n_estimators=90,\n",
    "        learning_rate=0.1,\n",
    "        eval_metric='mlogloss',\n",
    "        use_label_encoder=False\n",
    "    )\n",
    "\n",
    "    classes_weights = class_weight.compute_sample_weight(\n",
    "        class_weight='balanced',\n",
    "        y=train_labels\n",
    "    )\n",
    "\n",
    "    labels_loss = pd.DataFrame()\n",
    "    print(f\"------------------------ Training ------------------------\")\n",
    "    for name, train_data in train_data_dict.items():\n",
    "\n",
    "        if name in ['words_1000', 'ins_1000', 'ember_section_ins_words', 'ember_section_ins_semantic']:\n",
    "            # Implement feature selection for tf-idf features\n",
    "            selector = SelectFromModel(estimator=ExtraTreesClassifier(n_estimators=200))\n",
    "            train_data[np.isnan(train_data)] = 0.0\n",
    "            selector.fit(train_data, train_labels, sample_weight=classes_weights)\n",
    "\n",
    "            joblib.dump(selector, open(f\"{inter_path}/models/select_model_{name}.pth\", \"wb\"))\n",
    "            train_data = selector.transform(train_data)\n",
    "\n",
    "        clf = Model(model_A, train_data, train_labels, name, inter_path, labels_loss)\n",
    "        \n",
    "        print(name)\n",
    "        %time clf.Fit()\n",
    "        \n",
    "        labels_loss[name] = clf.get_class_weight()\n",
    "\n",
    "    labels_loss[np.isnan(labels_loss)] = 0\n",
    "    labels_loss[labels_loss < 0] = 0\n",
    "    labels_loss.to_csv(f\"{inter_path}/feature/labels_loss.csv\", index=False)"
   ]
  },
  {
   "cell_type": "code",
   "execution_count": null,
   "id": "8980f2f5-b908-45c4-81a4-aea79b6a959b",
   "metadata": {},
   "outputs": [],
   "source": []
  }
 ],
 "metadata": {
  "kernelspec": {
   "display_name": "Python 3",
   "language": "python",
   "name": "python3"
  },
  "language_info": {
   "codemirror_mode": {
    "name": "ipython",
    "version": 3
   },
   "file_extension": ".py",
   "mimetype": "text/x-python",
   "name": "python",
   "nbconvert_exporter": "python",
   "pygments_lexer": "ipython3",
   "version": "3.8.8"
  }
 },
 "nbformat": 4,
 "nbformat_minor": 5
}
