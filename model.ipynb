{
 "cells": [
  {
   "cell_type": "code",
   "execution_count": 1,
   "id": "b475b866-e793-499c-b52f-b3b8bb90e526",
   "metadata": {},
   "outputs": [],
   "source": [
    "%run utils.ipynb"
   ]
  },
  {
   "cell_type": "code",
   "execution_count": 2,
   "id": "6fa08374-be4c-4e52-98ba-48cba327e01c",
   "metadata": {},
   "outputs": [],
   "source": [
    "import time\n",
    "import joblib\n",
    "import numpy as np\n",
    "import pandas as pd\n",
    "from sklearn.metrics import log_loss\n",
    "from sklearn.model_selection import StratifiedKFold, cross_val_score"
   ]
  },
  {
   "cell_type": "code",
   "execution_count": 3,
   "id": "764f8a78-163f-456e-a5d2-8b4d61e7fa7d",
   "metadata": {},
   "outputs": [],
   "source": [
    "class Model(object):\n",
    "    \"\"\" Model training, cross-validation and predicting. \"\"\"\n",
    "\n",
    "    def __init__(self, model=None, X=None, y=None, label=None, inter_path=None, labels_loss=None):\n",
    "        self.model = model\n",
    "        self.X = X\n",
    "        self.y = y\n",
    "        self.label = label\n",
    "        self.inter_path = inter_path\n",
    "        self.labels_loss = labels_loss\n",
    "\n",
    "    def CrossValidation(self, n_splits):\n",
    "        cv = StratifiedKFold(n_splits=n_splits)\n",
    "        cv_scores = cross_val_score(self.model, self.X, self.y, scoring='neg_log_loss', cv=cv)\n",
    "        print(f\"Logloss_mean after {n_splits} folds: {-np.mean(cv_scores):.6f}\")\n",
    "\n",
    "    def get_class_weight(self):\n",
    "        # Calculate the logloss of each family in the training set\n",
    "        y_train = self.model.predict_proba(self.X)\n",
    "        kclass_logloss = pd.DataFrame(y_train)\n",
    "        kclass_logloss['family'] = self.y\n",
    "        kclassloss = kclass_logloss.groupby('family').apply(get_class_logloss)\n",
    "\n",
    "        self.labels_loss[self.label] = kclassloss\n",
    "        self.labels_loss[np.isnan(self.labels_loss)] = 2  # Ensure log value > 0\n",
    "        self.labels_loss = self.labels_loss.astype(float)\n",
    "        self.labels_loss[self.label] = - self.labels_loss[self.label].apply(np.log)\n",
    "        self.labels_loss[self.labels_loss < 0] = 0\n",
    "\n",
    "        return self.labels_loss[self.label]\n",
    "\n",
    "    def Fit(self):\n",
    "        self.model.fit(self.X, self.y)\n",
    "        joblib.dump(self.model, f\"{self.inter_path}/models/XGB_model_{self.label}.pkl\")\n",
    "\n",
    "    def Predict(self, test_X):\n",
    "        model = joblib.load(f\"{self.inter_path}/models/XGB_model_{self.label}.pkl\")\n",
    "        test_y = model.predict_proba(test_X)\n",
    "        return test_y"
   ]
  },
  {
   "cell_type": "code",
   "execution_count": null,
   "id": "66f93feb-6c6c-490b-8d4c-634a57efa596",
   "metadata": {},
   "outputs": [],
   "source": []
  }
 ],
 "metadata": {
  "kernelspec": {
   "display_name": "Python 3",
   "language": "python",
   "name": "python3"
  },
  "language_info": {
   "codemirror_mode": {
    "name": "ipython",
    "version": 3
   },
   "file_extension": ".py",
   "mimetype": "text/x-python",
   "name": "python",
   "nbconvert_exporter": "python",
   "pygments_lexer": "ipython3",
   "version": "3.8.8"
  }
 },
 "nbformat": 4,
 "nbformat_minor": 5
}
