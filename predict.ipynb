{
 "cells": [
  {
   "cell_type": "code",
   "execution_count": 3,
   "id": "40af5e8e-83fb-4f85-880d-657d2fbdb6c0",
   "metadata": {},
   "outputs": [],
   "source": [
    "import warnings\n",
    "warnings.filterwarnings('ignore')"
   ]
  },
  {
   "cell_type": "code",
   "execution_count": 4,
   "id": "ad18f6bc-f789-4225-9282-5872dce22cba",
   "metadata": {},
   "outputs": [],
   "source": [
    "%run utils.ipynb\n",
    "%run model.ipynb\n",
    "%run feature_engineering.ipynb"
   ]
  },
  {
   "cell_type": "code",
   "execution_count": 2,
   "id": "5cc18bfe-f5d2-4cca-b98b-46738fbd26a2",
   "metadata": {},
   "outputs": [],
   "source": [
    "import os\n",
    "import sys\n",
    "import time\n",
    "import joblib\n",
    "import numpy as np\n",
    "import pandas as pd"
   ]
  },
  {
   "cell_type": "code",
   "execution_count": 1,
   "id": "575910e3-0b2a-49ad-bbc0-506d61fb65ec",
   "metadata": {},
   "outputs": [],
   "source": [
    "def submit_result(inter_path, result_np, result_name):\n",
    "    \"\"\" Generate the final result file to be submit. \"\"\"\n",
    "    result_path = f\"{inter_path}/prediction_result\".replace('/user_data', '')\n",
    "    with open(f\"{inter_path}/test_filename.txt\", 'r') as fp:\n",
    "        test_filename = fp.read().split()\n",
    "    result = pd.DataFrame()\n",
    "    result['filename'] = test_filename\n",
    "    fam_cols = ['family_' + str(i) for i in range(result_np.shape[1])]\n",
    "    result[fam_cols] = result_np\n",
    "    result.to_csv(f\"{result_path}/{result_name}.csv\", index=False)"
   ]
  },
  {
   "cell_type": "code",
   "execution_count": 6,
   "id": "49d8d5d9-072d-4d11-ad2f-2a7dca5b5542",
   "metadata": {},
   "outputs": [],
   "source": [
    "def predict_result(feature_list, inter_path):\n",
    "    \"\"\" Generate the weighted results by family \"\"\"\n",
    "    vote_list = []\n",
    "    test_data_dict = load_data('test', feature_list, inter_path)\n",
    "    for name, test_data in test_data_dict.items():\n",
    "        if name in ['words_1000', 'ins_1000', 'ember_section_ins_words', 'ember_section_ins_semantic']:\n",
    "            # Implement feature selection for tf-idf features\n",
    "            selector = joblib.load(open(f\"{inter_path}/models/select_model_{name}.pth\", \"rb\"))\n",
    "            test_data[np.isnan(test_data)] = 0.0\n",
    "            test_data = selector.transform(test_data)\n",
    "\n",
    "        clf = Model(label=name, inter_path=inter_path)\n",
    "        y_test = clf.Predict(test_data)\n",
    "        vote_list.append(y_test)\n",
    "\n",
    "    labels_loss = pd.read_csv(f\"{inter_path}/feature/labels_loss.csv\")\n",
    "    np.save(f\"{inter_path}/vote_list_fu.npy\", vote_list)\n",
    "    vote_weight = vote_weight_results(labels_loss, vote_list, feature_list)  # Weighted results by family\n",
    "    # vote = vote_results(vote_list)  # Average results by family\n",
    "    return vote_weight"
   ]
  },
  {
   "cell_type": "code",
   "execution_count": null,
   "id": "21b14de1-eb3b-49ce-b8a5-a2efbbcf0873",
   "metadata": {},
   "outputs": [],
   "source": [
    "def predict_result_base(feature_list, inter_path):\n",
    "    \n",
    "    test_data_dict = load_data('test', feature_list, inter_path)\n",
    "    print(\"------------------------ Prediction ------------------------\")\n",
    "    for name, test_data in test_data_dict.items():\n",
    "        \n",
    "        if name in ['words_1000', 'ins_1000', 'ember_section_ins_words', 'ember_section_ins_semantic']:\n",
    "            # Implement feature selection for tf-idf features\n",
    "            selector = joblib.load(open(f\"{inter_path}/models/select_model_{name}.pth\", \"rb\"))\n",
    "            test_data[np.isnan(test_data)] = 0.0\n",
    "            test_data = selector.transform(test_data)\n",
    "\n",
    "        clf = Model(label=name, inter_path=inter_path)\n",
    "        \n",
    "        t1 = time.time()\n",
    "        y_test = clf.Predict(test_data)\n",
    "        t2 = time.time()\n",
    "        print(name)\n",
    "        print(f\"Wall time: {t2 - t1} s\")\n",
    "        \n",
    "        submit_result(inter_path, y_test, f\"result_{name}\")"
   ]
  },
  {
   "cell_type": "code",
   "execution_count": 1,
   "id": "97e956d5-b708-48d6-838d-f3344279757e",
   "metadata": {},
   "outputs": [],
   "source": [
    "def predict_result_vote(feature_list, inter_path):\n",
    "    \n",
    "    vote_list = []\n",
    "    test_data_dict = load_data('test', feature_list, inter_path)\n",
    "    print(\"------------------------ Prediction (vote) ------------------------\")\n",
    "    for name, test_data in test_data_dict.items():\n",
    "        if name in ['words_1000', 'ins_1000', 'ember_section_ins_words', 'ember_section_ins_semantic']:\n",
    "            # Implement feature selection for tf-idf features\n",
    "            selector = joblib.load(open(f\"{inter_path}/models/select_model_{name}.pth\", \"rb\"))\n",
    "            test_data[np.isnan(test_data)] = 0.0\n",
    "            test_data = selector.transform(test_data)\n",
    "        clf = Model(label=name, inter_path=inter_path)\n",
    "        y_test = clf.Predict(test_data)\n",
    "        vote_list.append(y_test)\n",
    "\n",
    "    np.save(f\"{inter_path}/vote_list_base.npy\", vote_list)\n",
    "    vote = vote_results(vote_list)  # Average results by family\n",
    "    submit_result(inter_path, vote, \"result_vote\")"
   ]
  },
  {
   "cell_type": "code",
   "execution_count": 2,
   "id": "6cd983aa-0574-4d28-a11b-86448d3bdaa5",
   "metadata": {},
   "outputs": [],
   "source": [
    "def predict_result_weighted(feature_list, inter_path):\n",
    "    print(\"------------------------ Prediction (weighted) ------------------------\")\n",
    "    labels_loss = pd.read_csv(f\"{inter_path}/feature/labels_loss.csv\")\n",
    "    vote_list = np.load(f\"{inter_path}/vote_list_base.npy\", allow_pickle=True)\n",
    "    vote_weight = vote_weight_results(labels_loss, vote_list, feature_list)  # Weighted results by family\n",
    "    submit_result(inter_path, vote_weight, \"result_weighted\")"
   ]
  },
  {
   "cell_type": "code",
   "execution_count": null,
   "id": "c2fce82b-7eea-4691-ae1f-a91c0f57a508",
   "metadata": {},
   "outputs": [],
   "source": []
  },
  {
   "cell_type": "code",
   "execution_count": null,
   "id": "81d4f3e4-df6a-454b-8d5c-9a4ea8ef8c1d",
   "metadata": {},
   "outputs": [],
   "source": []
  }
 ],
 "metadata": {
  "kernelspec": {
   "display_name": "Python 3",
   "language": "python",
   "name": "python3"
  },
  "language_info": {
   "codemirror_mode": {
    "name": "ipython",
    "version": 3
   },
   "file_extension": ".py",
   "mimetype": "text/x-python",
   "name": "python",
   "nbconvert_exporter": "python",
   "pygments_lexer": "ipython3",
   "version": "3.8.8"
  }
 },
 "nbformat": 4,
 "nbformat_minor": 5
}
